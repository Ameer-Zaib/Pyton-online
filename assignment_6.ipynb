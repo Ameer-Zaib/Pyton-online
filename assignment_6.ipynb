{
 "cells": [
  {
   "cell_type": "code",
   "execution_count": 1,
   "metadata": {},
   "outputs": [
    {
     "data": {
      "text/plain": [
       "'OBJECT ORIENTED PROGRAMMING LANGUAGE:\\n    Object oriented programming (oop) is a paradigm in which real world \\n    objects are each viewed as separate entities having thier own state.'"
      ]
     },
     "execution_count": 1,
     "metadata": {},
     "output_type": "execute_result"
    }
   ],
   "source": [
    "\"\"\"OBJECT ORIENTED PROGRAMMING LANGUAGE:\n",
    "    Object oriented programming (oop) is a paradigm in which real world \n",
    "    objects are each viewed as separate entities having thier own state.\"\"\""
   ]
  },
  {
   "cell_type": "code",
   "execution_count": 2,
   "metadata": {},
   "outputs": [
    {
     "data": {
      "text/plain": [
       "'Benefits Of OOP:\\n    The programming gets easy and efficient.\\n    the class is shareable,so codes can be reused.\\n    the productivity programmers increases.\\n    data is save and secure with data abstraction.'"
      ]
     },
     "execution_count": 2,
     "metadata": {},
     "output_type": "execute_result"
    }
   ],
   "source": [
    "\"\"\"Benefits Of OOP:\n",
    "    The programming gets easy and efficient.\n",
    "    the class is shareable,so codes can be reused.\n",
    "    the productivity programmers increases.\n",
    "    data is save and secure with data abstraction.\"\"\"\n",
    "    "
   ]
  },
  {
   "cell_type": "code",
   "execution_count": 4,
   "metadata": {},
   "outputs": [
    {
     "data": {
      "text/plain": [
       "'Functions:\\n    can be defined outside the class and performs particulat task.\\nMethods:\\n    methods are functions defined inside the class .They are used to define the behaviours of an object.'"
      ]
     },
     "execution_count": 4,
     "metadata": {},
     "output_type": "execute_result"
    }
   ],
   "source": [
    "\"\"\"Functions:\n",
    "    can be defined outside the class and performs particulat task.\n",
    "Methods:\n",
    "    methods are functions defined inside the class .They are used to define the behaviours of an object.\"\"\"\n",
    "    "
   ]
  },
  {
   "cell_type": "code",
   "execution_count": 6,
   "metadata": {},
   "outputs": [
    {
     "data": {
      "text/plain": [
       "'Class:\\n    class is a template or blueprint about the capability of what an object can do.\\nObject:\\n    An object is an instantiation of a class.\\nBehavior:\\n    behaviors are the functionality of the object.\\nAttributes:\\n    Attributes are the properties of object.'"
      ]
     },
     "execution_count": 6,
     "metadata": {},
     "output_type": "execute_result"
    }
   ],
   "source": [
    "\"\"\"Class:\n",
    "    class is a template or blueprint about the capability of what an object can do.\n",
    "Object:\n",
    "    An object is an instantiation of a class.\n",
    "Behavior:\n",
    "    behaviors are the functionality of the object.\n",
    "Attributes:\n",
    "    Attributes are the properties of object.\"\"\""
   ]
  },
  {
   "cell_type": "code",
   "execution_count": 2,
   "metadata": {},
   "outputs": [
    {
     "name": "stdout",
     "output_type": "stream",
     "text": [
      "<__main__.Car object at 0x000001D6C618B668>\n",
      "2019\n",
      "cultas\n",
      "golden\n",
      "12000 km\n",
      "2019\n",
      "<__main__.Car object at 0x000001D6C618B710>\n",
      "<__main__.Car object at 0x000001D6C6178048>\n",
      "<__main__.Car object at 0x000001D6C61780B8>\n",
      "<__main__.Car object at 0x000001D6C61780F0>\n"
     ]
    }
   ],
   "source": [
    "class Car():\n",
    "    def __init__(zaib,model,name,color,cubic_capacity,manu_year):\n",
    "        zaib.model=model\n",
    "        zaib.name=name\n",
    "        zaib.color=color\n",
    "        zaib.cubic_capacity=cubic_capacity\n",
    "        zaib.manu_year=manu_year\n",
    "    \n",
    "    def updatecubic_capacity(zaib,new_cubic):\n",
    "        zaib.cubic_capacity=new_cubic\n",
    "    def updatecolor(zaib,new_color):\n",
    "        zaib.color=new_color\n",
    "    def updatemanu_year(zaib,new_year):\n",
    "        zaib.mnu_year=new_year\n",
    "            \n",
    "record=Car(\"2019\",\"cultas\",\"black\",\"20000 cm\",\"2019\")  \n",
    "record.updatecubic_capacity(\"12000 km\")\n",
    "record.updatecolor(\"golden\")\n",
    "record.updatemanu_year(\"2020\")\n",
    "print(record)\n",
    "print(record.model)\n",
    "print(record.name)\n",
    "print(record.color)\n",
    "print(record.cubic_capacity)\n",
    "print(record.manu_year)\n",
    "\n",
    "record2=Car(\"2018\",\"cultas\",\"black\",\"20000 cm\",\"2018\")  \n",
    "print(record2)\n",
    "\n",
    "record3=Car(\"2017\",\"cultas\",\"blue\",\"2000 cm\",\"2017\")  \n",
    "print(record3)\n",
    "\n",
    "record4=Car(\"2016\",\"cultas\",\"mahron\",\"200 cm\",\"2016\")  \n",
    "print(record4)\n",
    "\n",
    "record5=Car(\"2015\",\"cultas\",\"white\",\"20 cm\",\"2015\")    \n",
    "print(record5)\n",
    "        \n",
    "        \n",
    "        \n",
    "        \n",
    "        \n",
    "        \n",
    "        "
   ]
  },
  {
   "cell_type": "code",
   "execution_count": null,
   "metadata": {},
   "outputs": [],
   "source": []
  }
 ],
 "metadata": {
  "kernelspec": {
   "display_name": "Python 3",
   "language": "python",
   "name": "python3"
  },
  "language_info": {
   "codemirror_mode": {
    "name": "ipython",
    "version": 3
   },
   "file_extension": ".py",
   "mimetype": "text/x-python",
   "name": "python",
   "nbconvert_exporter": "python",
   "pygments_lexer": "ipython3",
   "version": "3.7.1"
  }
 },
 "nbformat": 4,
 "nbformat_minor": 2
}
